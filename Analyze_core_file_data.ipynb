{
 "cells": [
  {
   "cell_type": "code",
   "execution_count": 1,
   "id": "molecular-hollow",
   "metadata": {},
   "outputs": [],
   "source": [
    "#pip install pyproj\n",
    "#pip install netdcf4\n",
    "import os\n",
    "import netCDF4 as nc\n",
    "import numpy as np\n",
    "import matplotlib.pyplot as plt\n",
    "import pdb\n",
    "import scipy.spatial.qhull as qhull\n",
    "from scipy.interpolate import griddata\n",
    "import pyproj\n",
    "from u_interpolate_small import regrid_irregular_quick\n",
    "from datetime import date\n",
    "from ndays import numOfDays\n",
    "import glob\n",
    "#from mpl_toolkits.basemap import Basemap"
   ]
  },
  {
   "cell_type": "code",
   "execution_count": 2,
   "id": "russian-builder",
   "metadata": {},
   "outputs": [],
   "source": [
    "# Define domain and time period\n",
    "start_lat = -37\n",
    "end_lat = -10\n",
    "start_lon = -18\n",
    "end_lon = 30\n",
    "start_month = '01'\n",
    "start_year = '2010'\n",
    "end_month = '01'\n",
    "end_year = '2010'"
   ]
  },
  {
   "cell_type": "code",
   "execution_count": 3,
   "id": "controlled-indiana",
   "metadata": {},
   "outputs": [],
   "source": [
    "dir_name = '/prj/Africa_cloud/ch9_wavelet/'+start_year+'/'+start_month+'/'\n",
    "os.chdir(dir_name)"
   ]
  },
  {
   "cell_type": "code",
   "execution_count": 4,
   "id": "ordered-decline",
   "metadata": {},
   "outputs": [],
   "source": [
    "# find indices using one file\n",
    "core_filename = '/prj/Africa_cloud/ch9_wavelet/2010/09/201009081045.nc'\n",
    "core_data = nc.Dataset(core_filename,'r')\n",
    "# read in cores lat/lon\n",
    "lat = np.array(core_data.variables['lat'][:])\n",
    "lon = np.array(core_data.variables['lon'][:])\n",
    "#lon_filter = lon >-181 # acceptable values\n",
    "#lon_fl = lon[lon_filter] #filtered long\n",
    "lat_ind = np.where((lat>=start_lat) & (lat<=end_lat))[0]\n",
    "lon_ind = np.where((lon>= start_lon) & (lon<=end_lon))[0]\n",
    "lat = lat[lat_ind[0]:lat_ind[-1]]\n",
    "lon = lon[lon_ind[0]:lon_ind[-1]]\n",
    "#lon = lon_fl[(lon_fl>= start_lon) & (lon_fl<=end_lon)]\n",
    "X, Y = np.meshgrid(lon,lat)\n",
    "\n",
    "\n",
    "# find ndays\n",
    "date1 = date(int(start_year), int(start_month), 1)\n",
    "date2 = date(int(end_year), int(end_month), 2)\n",
    "t = numOfDays(date1, date2)\n",
    "#time = \n",
    "cores = np.zeros((len(lat),len(lon),t*24),dtype=float) #using every fourth value for hourly comparison- 24hr\n",
    "#time = np.zeros((len(lat)-1,len(lon)-1,t*96))"
   ]
  },
  {
   "cell_type": "code",
   "execution_count": 5,
   "id": "thirty-shock",
   "metadata": {},
   "outputs": [],
   "source": [
    "# read in cores data\n",
    "list_of_files = sorted(os.listdir())\n",
    "counter = 0\n",
    "for l in range(2, t*96, 4):#range(len(list_of_files)): # 96 files per day\n",
    "    core_filename = '/prj/Africa_cloud/ch9_wavelet/'+start_year+'/'+start_month+'/'+list_of_files[l]\n",
    "    core_data = nc.Dataset(core_filename,'r')\n",
    "    #print(core_data)\n",
    "    cores_temp = np.array(core_data.variables['cores'])[0,lat_ind[0]:lat_ind[-1],lon_ind[0]:lon_ind[-1]]\n",
    "    cores[:,:,counter] = cores_temp   \n",
    "    counter = counter+1\n",
    "    core_data.close()                                                                                                                                                "
   ]
  },
  {
   "cell_type": "code",
   "execution_count": 6,
   "id": "e0adeed8",
   "metadata": {},
   "outputs": [],
   "source": [
    "# find precip indices using one file\n",
    "precip_filename = '/prj/global_water/MCS_Feng/global_v2/2d_fields/20100101.0000_20110101.0000/mcstrack_20100901_0630.nc'\n",
    "precip_data = nc.Dataset(precip_filename,'r')\n",
    "lat_p = np.array(precip_data.variables['latitude'][:])\n",
    "lon_p = np.array(precip_data.variables['longitude'][:])\n",
    "lat_ind_p = np.where((lat_p[:,1]>=start_lat) & (lat_p[:,1]<=end_lat))[0]\n",
    "lon_ind_p = np.where((lon_p[1,:]>= start_lon) & (lon_p[1,:]<=end_lon))[0]\n",
    "lat_p = lat_p[lat_ind_p[0]:lat_ind_p[-1],lon_ind_p[0]:lon_ind_p[-1]]\n",
    "lon_p = lon_p[lat_ind_p[0]:lat_ind_p[-1],lon_ind_p[0]:lon_ind_p[-1]]\n",
    "#X_p, Y_p = np.meshgrid(lon_p,lat_p)"
   ]
  },
  {
   "cell_type": "code",
   "execution_count": 7,
   "id": "eaa0b068",
   "metadata": {},
   "outputs": [],
   "source": [
    "# read in precip data \n",
    "dir_name_precip =  '/prj/global_water/MCS_Feng/global_v2/2d_fields/'+start_year+'0101.0000_'+str(int(start_year)+1)+'0101.0000'\n",
    "os.chdir(dir_name_precip)\n",
    "list_of_files_precip = sorted(glob.glob(\"mcstrack_\"+start_year+start_month+\"01*.nc\")) # day 1\n",
    "precip = np.zeros((len(lat_p[:,1]),len(lon_p[1,:]),t*24),dtype=float)\n",
    "regidded_precip = np.zeros((len(lat),len(lon),t*24),dtype=float)\n",
    "\n",
    "for l in range(0,len(list_of_files_precip),1):\n",
    "    precip_filename = list_of_files_precip[l]\n",
    "    precip_data = nc.Dataset(precip_filename,'r')\n",
    "    precip_temp = np.array(precip_data.variables['precipitation'])[0,lat_ind_p[0]:lat_ind_p[-1],lon_ind_p[0]:lon_ind_p[-1]]\n",
    "    precip[:,:,l] = precip_temp                                                                                                                                                            \n",
    "    A = regrid_irregular_quick(lon_p[1,:],lat_p[:,1],lon,lat,precip_temp)\n",
    "    regidded_precip[:,:,l] = A   "
   ]
  },
  {
   "cell_type": "code",
   "execution_count": 9,
   "id": "62947374",
   "metadata": {},
   "outputs": [
    {
     "data": {
      "image/png": "[encoded data removed]",
      "text/plain": [
       "<Figure size 720x432 with 2 Axes>"
      ]
     },
     "metadata": {
      "needs_background": "light"
     },
     "output_type": "display_data"
    },
    {
     "data": {
      "image/png": "[encoded data removed]",
      "text/plain": [
       "<Figure size 720x432 with 2 Axes>"
      ]
     },
     "metadata": {
      "needs_background": "light"
     },
     "output_type": "display_data"
    }
   ],
   "source": [
    "# visualize core data at inherent grid/resol\n",
    "plt.figure(figsize=(10,6))\n",
    "plt.contourf(X,Y,cores[:,:,0],cmap='jet')\n",
    "plt.colorbar(label='power')\n",
    "plt.xlabel('Longitude')\n",
    "plt.ylabel('Latitude')\n",
    "plt.show()\n",
    "\n",
    "# visualize core data at inherent grid/resol\n",
    "#plt.figure(figsize=(10,6))\n",
    "#plt.contourf(lon_p,lat_p,precip[:,:,1],cmap='jet')#\n",
    "#plt.colorbar(label='precip [mm/hr]')\n",
    "#plt.xlabel('Longitude')\n",
    "#plt.ylabel('Latitude')\n",
    "#plt.show()\n",
    "\n",
    "# visualize core data at inherent grid/resol\n",
    "plt.figure(figsize=(10,6))\n",
    "plt.contourf(X,Y,regidded_precip[:,:,0],cmap='jet')#\n",
    "plt.colorbar(label='precip [mm/hr]')\n",
    "plt.xlabel('Longitude')\n",
    "plt.ylabel('Latitude')\n",
    "plt.show()"
   ]
  },
  {
   "cell_type": "code",
   "execution_count": 10,
   "id": "outdoor-paste",
   "metadata": {},
   "outputs": [],
   "source": [
    "# calculate frequency of rainfall above a threshold \n",
    "# dat = \n",
    "# threshold = 30mm/hr\n",
    "\n",
    "def calc_treshReached(dat, thresh):\n",
    "    return np.sum(np.array(dat)>thresh)/np.sum(np.isfinite(dat))"
   ]
  },
  {
   "cell_type": "code",
   "execution_count": 11,
   "id": "perfect-contributor",
   "metadata": {},
   "outputs": [],
   "source": [
    "# calculate frequency of rainfall above a threshold relative to the same frequency for the full rainfall field (native)\n",
    "\n",
    "def calc_treshReached_vsObs(dat, obs, thresh):\n",
    "    return np.sum(np.array(dat)>thresh)/np.sum(np.isfinite(dat)) / np.sum(np.array(obs)>thresh)/np.sum(np.isfinite(obs))"
   ]
  },
  {
   "cell_type": "code",
   "execution_count": 12,
   "id": "rotary-transcript",
   "metadata": {},
   "outputs": [],
   "source": [
    "# calculate fraction of missed rainfall pixels above a threshold\n",
    "\n",
    "def calc_treshMissed(dat, obs, thresh):\n",
    "    return np.sum(np.array(dat)>thresh)/np.sum(np.array(obs)>thresh)"
   ]
  },
  {
   "cell_type": "code",
   "execution_count": 13,
   "id": "european-loading",
   "metadata": {},
   "outputs": [],
   "source": [
    "# calculate frequency of rainfall above a threshold for regions with wavelet power above a given percentile\n",
    "\n",
    "def percentile(dat, wav, thresh, perc):\n",
    "    pval = np.percentile(wav, perc)\n",
    "    dats = np.array(dat)[np.array(wav)>=pval]\n",
    "    return np.sum(dats>thresh)/np.sum(np.isfinite(dats))"
   ]
  },
  {
   "cell_type": "code",
   "execution_count": 14,
   "id": "neural-occupation",
   "metadata": {},
   "outputs": [],
   "source": [
    "def calc_treshMissed(dat, obs, thresh):\n",
    "    return np.sum(np.array(dat)>thresh)/np.sum(np.array(obs)>thresh)"
   ]
  },
  {
   "cell_type": "code",
   "execution_count": null,
   "id": "770233a2",
   "metadata": {},
   "outputs": [],
   "source": [
    "# Basics to start with would be fraction of retained intense / extreme rainfall pixels  (e.g. > 40 mm) and curves \n",
    "# that show the probability for rain above a threshold (slide 3 in attached) - the latter being what we're trying to\n",
    "# maximise while retaining most intense rainfall pixels from the original rainfall field.\n",
    "# The curves represent rainfall associated with different versions of our convective cores (blue, yellow, green, red)\n",
    "# and the stats for the original IMERG rainfall field interpolated to a 3 and 5km regular grid (interpolation \n",
    "# effect test..). "
   ]
  },
  {
   "cell_type": "code",
   "execution_count": 16,
   "id": "sublime-violence",
   "metadata": {},
   "outputs": [
    {
     "name": "stdout",
     "output_type": "stream",
     "text": [
      "3.081329852663132e-06\n"
     ]
    }
   ],
   "source": [
    "# threshold exceeded\n",
    "dat = regidded_precip.flatten()\n",
    "treached = calc_treshReached(dat,20)\n",
    "print(treached)"
   ]
  },
  {
   "cell_type": "code",
   "execution_count": null,
   "id": "ordered-delhi",
   "metadata": {},
   "outputs": [],
   "source": [
    "tcaught = []\n",
    "for i in range(0,t*24,1)\n",
    "        precip = strt['5k rain']\n",
    "    \n",
    "    tcaught = calc_treshMissed(dat,precip, 30)\n",
    "    print(cc, dat, len(dat))\n",
    "    tcaught.append(cc)"
   ]
  },
  {
   "cell_type": "code",
   "execution_count": null,
   "id": "composite-assembly",
   "metadata": {},
   "outputs": [],
   "source": [
    "tfrac = []\n",
    "for dat in [(k3LS['rain'], '3km LS, 3k weighting', alls3k), (k3LS_grid['rain'], '3km LS, nflics weighting', alls3k), (k3['rain'], '3km small, 3kweighting', alls3k), (k3LS_nflics['rain'], '3km LS, 3k regridded, 3k weighting', alls3k_reg), (nflics['rain'], '5k, nflics', alls5k), (nflicsLS['rain'], '5k LS definition, nflics weighting', alls5k)]:\n",
    "\n",
    "    cc = calc_treshReached_vsObs(dat[0],dat[2], 25)\n",
    "    print(cc, dat[1])\n",
    "    tfrac.append(cc)"
   ]
  },
  {
   "cell_type": "code",
   "execution_count": null,
   "id": "plastic-internship",
   "metadata": {},
   "outputs": [],
   "source": [
    "f = plt.figure(figsize=(9,6), dpi=200)\n",
    "ax = f.add_subplot(111)\n",
    "plotdic = []\n",
    "for dat in [(k3LS, '3km LS, new weighting'), (k3LS_grid, '3km LS, nflics weighting'), (nflics, '5k nflics'), (nflicsLS, '5k LS, nflics weighting')]:\n",
    "    treached = []\n",
    "    for intens in range(5,50,5):\n",
    "        cc = percentile(dat[0]['rain'],dat[0]['wav'], intens, 75)\n",
    "        treached.append(cc)\n",
    "    plotdic.append((treached,dat[1]))\n",
    "\n",
    "for pp in plotdic:    \n",
    "    ax.plot(range(5,50,5), pp[0], label=pp[1])\n",
    "\n",
    "ax.set_title(\"Intensity probability for 75th centile power (%) (x[treshhold]/x)\")\n",
    "plt.legend()\n",
    "#f.savefig(\"/home/ck/DIR/cornkle/data/nflics/core_tests/\"+'rainP_75p_wpower.jpg')"
   ]
  },
  {
   "cell_type": "code",
   "execution_count": 24,
   "id": "nasty-planet",
   "metadata": {},
   "outputs": [],
   "source": [
    "# read cores daily data\n",
    "#core_filename = '/prj/Africa_cloud/ch9_wavelet/2010/06/201006081045.nc'\n",
    "#core_filename = '/prj/Africa_cloud/ch9_wavelet/2010/',month,'/201006081045.nc'\n",
    "#core_data = nc.Dataset(core_filename,'r')\n",
    "#print(core_data)\n",
    "#cores_temp = np.array(core_data.variables['cores'])\n",
    "#cores = np.array(core_data.variables['cores'])\n",
    "#time = core_data.variables['time'][:]\n",
    "\n",
    "#cores = cores.append(cores_temp)\n",
    "# make a lat x lon x time dataset for monthly cores\n",
    "#global_attributes = core_data.__dict__\n",
    "\n",
    "\n",
    "# read precip data\n",
    "#precip_filename = '/prj/global_water/MCS_Feng/global_v2/2d_fields/'\n",
    "#precip_data = nc.Dataset(precip_filename,'r')\n",
    "\n",
    "# visualize core data at inherent grid/resol\n",
    "#plt.figure(figsize=(10,6))\n",
    "#plt.contourf(X,Y,np.max(cores,axis=2),cmap='jet')\n",
    "#plt.colorbar(label='power')\n",
    "#plt.title(cores.time)\n",
    "#plt.xlabel('Longitude')\n",
    "#plt.ylabel('Latitude')\n",
    "#plt.show()\n",
    "\n",
    "# visualize regridded data\n",
    "# plt.figure(figsize=(10,6))\n",
    "#plt.contourf(X_new,Y_new,A,cmap='jet')\n",
    "#plt.colorbar(label='power')\n",
    "#plt.title(cores.time)\n",
    "#plt.xlabel('Longitude')\n",
    "#plt.ylabel('Latitude')\n",
    "#plt.show()"
   ]
  },
  {
   "cell_type": "code",
   "execution_count": null,
   "id": "ab595615",
   "metadata": {},
   "outputs": [],
   "source": [
    "# replace with precip data grid - bring coarse precip data (0.1) to fine core grid (0.04)\n",
    "#new_lat = np.linspace(min(lat),max(lat),2000)#(lat[2]-lat[1])*2)\n",
    "#new_lon = np.linspace(min(lon),max(lon),1900)#(lat[2]-lat[1])*2)\n",
    "#X_new, Y_new = np.meshgrid(new_lon,new_lat)\n",
    "#A = regrid_irregular_quick(lat_p,lon_p,lon,lat,cores_temp)\n",
    "#regidded_precip[:,:,l] = A    "
   ]
  }
 ],
 "metadata": {
  "kernelspec": {
   "display_name": "Python 3",
   "language": "python",
   "name": "python3"
  },
  "language_info": {
   "codemirror_mode": {
    "name": "ipython",
    "version": 3
   },
   "file_extension": ".py",
   "mimetype": "text/x-python",
   "name": "python",
   "nbconvert_exporter": "python",
   "pygments_lexer": "ipython3",
   "version": "3.6.8"
  }
 },
 "nbformat": 4,
 "nbformat_minor": 5
}
