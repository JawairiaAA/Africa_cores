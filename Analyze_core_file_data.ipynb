{
 "cells": [
  {
   "cell_type": "code",
   "execution_count": 1,
   "id": "blessed-valve",
   "metadata": {},
   "outputs": [],
   "source": [
    "#pip install pyproj"
   ]
  },
  {
   "cell_type": "code",
   "execution_count": 2,
   "id": "molecular-hollow",
   "metadata": {},
   "outputs": [],
   "source": [
    "#pip install netdcf4\n",
    "import netCDF4 as nc\n",
    "import numpy as np\n",
    "import matplotlib.pyplot as plt\n",
    "import pdb\n",
    "import scipy.spatial.qhull as qhull\n",
    "from scipy.interpolate import griddata\n",
    "import pyproj\n",
    "from u_interpolate_small import regrid_irregular_quick\n",
    "#from mpl_toolkits.basemap import Basemap"
   ]
  },
  {
   "cell_type": "code",
   "execution_count": 10,
   "id": "nasty-planet",
   "metadata": {},
   "outputs": [],
   "source": [
    "# read cores daily data\n",
    "month='06'\n",
    "#os(ls)\n",
    "#for i in ls\n",
    "core_filename = '/prj/Africa_cloud/ch9_wavelet/2010/06/201006081045.nc'\n",
    "#core_filename = '/prj/Africa_cloud/ch9_wavelet/2010/',month,'/201006081045.nc'\n",
    "core_data = nc.Dataset(core_filename,'r')\n",
    "#print(core_data)\n",
    "#cores_temp = np.array(core_data.variables['cores'])\n",
    "cores = np.array(core_data.variables['cores'])\n",
    "#cores = cores.append(cores_temp)\n",
    "# make a lat x lon x time dataset for monthly cores\n",
    "\n",
    "#global_attributes = core_data.__dict__\n",
    "\n",
    "# read precip data\n",
    "#precip_filename = '/prj/global_water/MCS_Feng/global_v2/2d_fields/'\n",
    "#precip_data = nc.Dataset(precip_filename,'r')"
   ]
  },
  {
   "cell_type": "code",
   "execution_count": 11,
   "id": "monetary-consent",
   "metadata": {},
   "outputs": [],
   "source": [
    "# read in cores lat/lon\n",
    "lat = np.array(core_data.variables['lat'][:])\n",
    "lon = np.array(core_data.variables['lon'][:])\n",
    "#lon[lon<-180] = np.nan\n",
    "lon_filter = lon >-181 # acceptable values\n",
    "lon_fl = lon[lon_filter] #filtered long\n",
    "time = core_data.variables['time'][:]\n",
    "X, Y = np.meshgrid(lon_fl,lat)\n",
    "cores_fl=(cores[0,:,0:lon_fl.shape[0]])\n",
    "#map = Basemap(projection='merc',llcrnrlon=-28,llcrnr#lat=-38.,urcrnrlon=35.,urcrnrlat=25.,resolution='i') # projection, lat/lon extents and resolution of polygons to draw"
   ]
  },
  {
   "cell_type": "code",
   "execution_count": 16,
   "id": "close-microphone",
   "metadata": {
    "scrolled": true
   },
   "outputs": [
    {
     "data": {
      "image/png": "[encoded data removed]",
      "text/plain": [
       "<Figure size 720x432 with 2 Axes>"
      ]
     },
     "metadata": {
      "needs_background": "light"
     },
     "output_type": "display_data"
    }
   ],
   "source": [
    "# visualize core data at inherent grid/resol\n",
    "plt.figure(figsize=(10,6))\n",
    "plt.contourf(X,Y,cores_fl,cmap='jet')\n",
    "plt.colorbar(label='power')\n",
    "#plt.title(cores.time)\n",
    "plt.xlabel('Longitude')\n",
    "plt.ylabel('Latitude')\n",
    "plt.show()"
   ]
  },
  {
   "cell_type": "code",
   "execution_count": null,
   "id": "mental-mercury",
   "metadata": {},
   "outputs": [],
   "source": [
    "core_data.close()"
   ]
  },
  {
   "cell_type": "code",
   "execution_count": 13,
   "id": "regional-account",
   "metadata": {},
   "outputs": [],
   "source": [
    "# replace with precip data grid\n",
    "new_lat = np.linspace(min(lat),max(lat),2000)#(lat[2]-lat[1])*2)\n",
    "new_lon = np.linspace(min(lon_fl),max(lon_fl),1900)#(lat[2]-lat[1])*2)\n",
    "X_new, Y_new = np.meshgrid(new_lon,new_lat)\n",
    "A = regrid_irregular_quick(lon_fl,lat,new_lon,new_lat,cores_fl)\n",
    "#print(A.shape)"
   ]
  },
  {
   "cell_type": "code",
   "execution_count": 14,
   "id": "fifteen-parking",
   "metadata": {},
   "outputs": [
    {
     "data": {
      "image/png": "[encoded data removed]",
      "text/plain": [
       "<Figure size 720x432 with 2 Axes>"
      ]
     },
     "metadata": {
      "needs_background": "light"
     },
     "output_type": "display_data"
    }
   ],
   "source": [
    "# visualize regridded data\n",
    "plt.figure(figsize=(10,6))\n",
    "plt.contourf(X_new,Y_new,A,cmap='jet')\n",
    "plt.colorbar(label='power')\n",
    "#plt.title(cores.time)\n",
    "plt.xlabel('Longitude')\n",
    "plt.ylabel('Latitude')\n",
    "plt.show()"
   ]
  },
  {
   "cell_type": "code",
   "execution_count": 15,
   "id": "outdoor-paste",
   "metadata": {},
   "outputs": [],
   "source": [
    "# calculate frequency of rainfall above a threshold \n",
    "\n",
    "def calc_treshReached(dat, thresh):\n",
    "    return np.sum(np.array(dat)>thresh)/np.sum(np.isfinite(dat))"
   ]
  },
  {
   "cell_type": "code",
   "execution_count": null,
   "id": "perfect-contributor",
   "metadata": {},
   "outputs": [],
   "source": [
    "# calculate frequency of rainfall above a threshold relative to the same frequency for the full rainfall field (native)\n",
    "\n",
    "def calc_treshReached_vsObs(dat, obs, thresh):\n",
    "    return np.sum(np.array(dat)>thresh)/np.sum(np.isfinite(dat)) / np.sum(np.array(obs)>thresh)/np.sum(np.isfinite(obs))"
   ]
  },
  {
   "cell_type": "code",
   "execution_count": null,
   "id": "rotary-transcript",
   "metadata": {},
   "outputs": [],
   "source": [
    "# calculate fraction of missed rainfall pixels above a threshold\n",
    "\n",
    "def calc_treshMissed(dat, obs, thresh):\n",
    "    return np.sum(np.array(dat)>thresh)/np.sum(np.array(obs)>thresh)"
   ]
  },
  {
   "cell_type": "code",
   "execution_count": null,
   "id": "european-loading",
   "metadata": {},
   "outputs": [],
   "source": [
    "# calculate frequency of rainfall above a threshold for regions with wavelet power above a given percentile\n",
    "\n",
    "def percentile(dat, wav, thresh, perc):\n",
    "    pval = np.percentile(wav, perc)\n",
    "    dats = np.array(dat)[np.array(wav)>=pval]\n",
    "    return np.sum(dats>thresh)/np.sum(np.isfinite(dats))"
   ]
  },
  {
   "cell_type": "code",
   "execution_count": null,
   "id": "neural-occupation",
   "metadata": {},
   "outputs": [],
   "source": [
    "def calc_treshMissed(dat, obs, thresh):\n",
    "    return np.sum(np.array(dat)>thresh)/np.sum(np.array(obs)>thresh)"
   ]
  },
  {
   "cell_type": "code",
   "execution_count": null,
   "id": "sublime-violence",
   "metadata": {},
   "outputs": [],
   "source": [
    "treached = []\n",
    "tnames = []\n",
    "for kk in strt.keys():\n",
    "    try:\n",
    "        dat = strt[kk]['rain']\n",
    "    except:\n",
    "        dat = strt[kk]\n",
    "    cc = calc_treshReached(dat,20)\n",
    "    print(cc, kk)\n",
    "    treached.append(cc)\n",
    "    tnames.append(kk)"
   ]
  },
  {
   "cell_type": "code",
   "execution_count": null,
   "id": "ordered-delhi",
   "metadata": {},
   "outputs": [],
   "source": [
    "tcaught = []\n",
    "for kk in strt.keys():\n",
    "    try:\n",
    "        dat = strt[kk]['rain']\n",
    "    except:\n",
    "        continue\n",
    "    if '3k' in kk:\n",
    "        ipdb.set_trace()\n",
    "        precip  = strt['3k native rain']\n",
    "    else:\n",
    "        precip = strt['5k rain']\n",
    "    \n",
    "    cc = calc_treshMissed(dat,precip, 30)\n",
    "    print(cc, dat, len(dat))\n",
    "    tcaught.append(cc)"
   ]
  },
  {
   "cell_type": "code",
   "execution_count": null,
   "id": "composite-assembly",
   "metadata": {},
   "outputs": [],
   "source": [
    "tfrac = []\n",
    "for dat in [(k3LS['rain'], '3km LS, 3k weighting', alls3k), (k3LS_grid['rain'], '3km LS, nflics weighting', alls3k), (k3['rain'], '3km small, 3kweighting', alls3k), (k3LS_nflics['rain'], '3km LS, 3k regridded, 3k weighting', alls3k_reg), (nflics['rain'], '5k, nflics', alls5k), (nflicsLS['rain'], '5k LS definition, nflics weighting', alls5k)]:\n",
    "\n",
    "    cc = calc_treshReached_vsObs(dat[0],dat[2], 25)\n",
    "    print(cc, dat[1])\n",
    "    tfrac.append(cc)"
   ]
  },
  {
   "cell_type": "code",
   "execution_count": null,
   "id": "plastic-internship",
   "metadata": {},
   "outputs": [],
   "source": [
    "f = plt.figure(figsize=(9,6), dpi=200)\n",
    "ax = f.add_subplot(111)\n",
    "plotdic = []\n",
    "for dat in [(k3LS, '3km LS, new weighting'), (k3LS_grid, '3km LS, nflics weighting'), (nflics, '5k nflics'), (nflicsLS, '5k LS, nflics weighting')]:\n",
    "    treached = []\n",
    "    for intens in range(5,50,5):\n",
    "        cc = percentile(dat[0]['rain'],dat[0]['wav'], intens, 75)\n",
    "        treached.append(cc)\n",
    "    plotdic.append((treached,dat[1]))\n",
    "\n",
    "for pp in plotdic:    \n",
    "    ax.plot(range(5,50,5), pp[0], label=pp[1])\n",
    "\n",
    "ax.set_title(\"Intensity probability for 75th centile power (%) (x[treshhold]/x)\")\n",
    "plt.legend()\n",
    "#f.savefig(\"/home/ck/DIR/cornkle/data/nflics/core_tests/\"+'rainP_75p_wpower.jpg')"
   ]
  }
 ],
 "metadata": {
  "kernelspec": {
   "display_name": "Python 3",
   "language": "python",
   "name": "python3"
  },
  "language_info": {
   "codemirror_mode": {
    "name": "ipython",
    "version": 3
   },
   "file_extension": ".py",
   "mimetype": "text/x-python",
   "name": "python",
   "nbconvert_exporter": "python",
   "pygments_lexer": "ipython3",
   "version": "3.6.8"
  }
 },
 "nbformat": 4,
 "nbformat_minor": 5
}
